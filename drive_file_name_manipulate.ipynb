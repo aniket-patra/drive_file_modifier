{
  "nbformat": 4,
  "nbformat_minor": 0,
  "metadata": {
    "colab": {
      "name": "drive_file_name_manipulate.ipynb",
      "provenance": [],
      "mount_file_id": "1hE_-7MuQknxZXr5XnJ81zoY6qfaDA_hc",
      "authorship_tag": "ABX9TyOSQqCV16N9VdL+aWxeaG1Q",
      "include_colab_link": true
    },
    "kernelspec": {
      "name": "python3",
      "display_name": "Python 3"
    }
  },
  "cells": [
    {
      "cell_type": "markdown",
      "metadata": {
        "id": "view-in-github",
        "colab_type": "text"
      },
      "source": [
        "<a href=\"https://colab.research.google.com/github/aniket-patra/drive_file_modifier/blob/master/drive_file_name_manipulate.ipynb\" target=\"_parent\"><img src=\"https://colab.research.google.com/assets/colab-badge.svg\" alt=\"Open In Colab\"/></a>"
      ]
    },
    {
      "cell_type": "code",
      "metadata": {
        "id": "YCcdflnk7kTN",
        "colab_type": "code",
        "colab": {}
      },
      "source": [
        " #Connect to drive and copy the path value by right clicking on the drive object\n",
        " \n",
        " import os\n",
        " arr = os.listdir('directory_path')\n",
        " renameString = \"Astro\"\n",
        " \n",
        " #print(\"drive/My Drive/PDF/\"+arr[0])\n",
        " #type(arr[0])\n",
        "\n",
        " print(\"Total index: \",len(arr))\n",
        "\n",
        "\"\"\"\n",
        "#Uncomment to print the list of files\n",
        "\n",
        " for i in range(len(arr)):\n",
        "  print(\"File Name: \",arr[i])\n",
        "\"\"\"\n",
        "\n",
        "\"\"\" \n",
        "#Uncomment to to rename huge number of files based on some common pattern\n",
        "\n",
        "for i in range(len(arr)):\n",
        "  if renameString in arr[i]:\n",
        "    h=arr[i]\n",
        "    h=h.replace(renameString,'')\n",
        "    print(\"File Name: \",h)\n",
        "    os.rename(\"drive/My Drive/PDF/\"+arr[i],'drive/My Drive/PDF/'+h)\n",
        "\"\"\"\n",
        "\n",
        "\"\"\"\n",
        "#Uncomment to print the list of files based on search result\n",
        "\n",
        "searchString=\"enter_something\"\n",
        "for i in range(len(arr)):\n",
        "  if searchString in arr[i]:\n",
        "    print(arr[i])\n",
        "\"\"\""
      ],
      "execution_count": 0,
      "outputs": []
    }
  ]
}